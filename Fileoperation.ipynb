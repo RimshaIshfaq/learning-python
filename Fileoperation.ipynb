{
 "cells": [
  {
   "cell_type": "markdown",
   "id": "1e010fbd-6bc9-449b-9fe5-91fc695ff456",
   "metadata": {},
   "source": [
    "## File Operation - Read and write file"
   ]
  },
  {
   "cell_type": "code",
   "execution_count": 1,
   "id": "0be8dce4-f2da-490d-b9cc-98e6e7a53e1e",
   "metadata": {},
   "outputs": [
    {
     "name": "stdout",
     "output_type": "stream",
     "text": [
      "hello guys\n"
     ]
    }
   ],
   "source": [
    "## read a whole file\n",
    "\n",
    "with open(\"example.txt\", 'r') as file:\n",
    "    content=file.read()\n",
    "    print(content)\n"
   ]
  },
  {
   "cell_type": "code",
   "execution_count": 3,
   "id": "45e9daf0-3e30-472c-9030-a96567a9d659",
   "metadata": {},
   "outputs": [
    {
     "name": "stdout",
     "output_type": "stream",
     "text": [
      "hello guys\n",
      "\n",
      "I love maths\n",
      "\n",
      "I want to become ML engineer\n"
     ]
    }
   ],
   "source": [
    "## read a file line by line\n",
    "with open(\"example.txt\",\"r\") as file:\n",
    "    for line in file:\n",
    "        print(line)"
   ]
  },
  {
   "cell_type": "code",
   "execution_count": 5,
   "id": "389e1967-8985-47bd-8f82-f5fe8c40c838",
   "metadata": {},
   "outputs": [
    {
     "name": "stdout",
     "output_type": "stream",
     "text": [
      "hello guys\n",
      "I love maths\n",
      "I want to become ML engineer\n"
     ]
    }
   ],
   "source": [
    "## read a file line by line, but remove new line character\n",
    "with open(\"example.txt\",\"r\") as file:\n",
    "    for line in file:\n",
    "        print(line.strip())\n"
   ]
  },
  {
   "cell_type": "code",
   "execution_count": 15,
   "id": "10d691d8-1f6d-4eeb-afd4-f6f55a26331c",
   "metadata": {},
   "outputs": [],
   "source": [
    "## write a file (over writing)\n",
    "\n",
    "with open(\"example.txt\", \"w\") as file:\n",
    "    file.write(\"hello guys,\\n\")\n",
    "    file.write(\"let's go for data hunting\\n\")\n"
   ]
  },
  {
   "cell_type": "code",
   "execution_count": 16,
   "id": "6f5ac914-3dcb-443e-9a11-7356a938d89f",
   "metadata": {},
   "outputs": [],
   "source": [
    "## write a file (over writing)\n",
    "\n",
    "with open (\"example.txt\",\"w\") as file:\n",
    "    file.write(\"hello guys,\\n\")\n",
    "    file.write(\"let's go for data hunting\\n\")"
   ]
  },
  {
   "cell_type": "code",
   "execution_count": 17,
   "id": "5a02f064-f23b-482c-8524-8026160a51f0",
   "metadata": {},
   "outputs": [],
   "source": [
    "##write a list of lines to a file\n",
    "lines=[\"hey i m a girl,\\n\", \" i love maths\\n\", \"i am a bit shy\\n\", \"but i wanna learn and study a lot\\n\"]\n",
    "with open(\"example.txt\",'a') as file:\n",
    "    file.writelines(lines)"
   ]
  },
  {
   "cell_type": "markdown",
   "id": "4ab5f9e8-1e12-461c-843f-23fccca6a394",
   "metadata": {},
   "source": [
    "## Binary File"
   ]
  },
  {
   "cell_type": "code",
   "execution_count": 5,
   "id": "395743ed-f7f2-4f3b-894d-d0ce1d8dfda4",
   "metadata": {},
   "outputs": [],
   "source": [
    "## Writing to binary file\n",
    "\n",
    "data = b'\\x00\\x01\\x02\\x03\\x04'\n",
    "with open(\"example.bin\", 'wb') as file:\n",
    "    file.write(data)\n",
    "\n"
   ]
  },
  {
   "cell_type": "code",
   "execution_count": 22,
   "id": "46067336-22d1-4c6b-9213-7a3b21b682f9",
   "metadata": {},
   "outputs": [
    {
     "name": "stdout",
     "output_type": "stream",
     "text": [
      "b''\n"
     ]
    }
   ],
   "source": [
    "## Reading a binary file\n",
    "with open(\"example.bin\", 'rb') as file:\n",
    "    content=file.read()\n",
    "    print(content)"
   ]
  },
  {
   "cell_type": "code",
   "execution_count": 23,
   "id": "395b0386-d049-4df1-92ea-f3cfac4fa205",
   "metadata": {},
   "outputs": [],
   "source": [
    "## read the content from source text file and write it to destination file text\n",
    "## copying the file\n",
    "with open(\"example.txt\",\"r\") as source_file:\n",
    "    content=source_file.read()\n",
    "\n",
    "with open(\"destination.txt\",'w') as destination_file:\n",
    "    destination_file.write(content)\n"
   ]
  },
  {
   "cell_type": "code",
   "execution_count": 4,
   "id": "42064d5d-f480-47ef-ae37-2408480ad177",
   "metadata": {},
   "outputs": [
    {
     "name": "stdout",
     "output_type": "stream",
     "text": [
      "Lines: 6, Words: 28, Characters: 117\n"
     ]
    }
   ],
   "source": [
    "## Read a text file and count the number of lines, words and characters\n",
    "## counting the number of lines, words and characters\n",
    "\n",
    "def count_txt_file(file_path):\n",
    "    with open(file_path, \"r\") as file:\n",
    "        lines = file.readlines()\n",
    "        line_count = len(lines)\n",
    "        word_count = sum(len(line.split()) for line in lines)\n",
    "        char_count = sum(len(line) for line in lines)\n",
    "    return line_count, word_count, char_count\n",
    "\n",
    "file_path = \"destination.txt\"\n",
    "line_count, word_count, char_count = count_txt_file(file_path)\n",
    "print(f\"Lines: {line_count}, Words: {word_count}, Characters: {char_count}\")\n"
   ]
  },
  {
   "cell_type": "markdown",
   "id": "ac745935-c1c2-442a-b11f-6f6ce0a142fc",
   "metadata": {},
   "source": [
    "#### w+:\n",
    "The w+ mode in python is used for both reading and writing, if the file does not exist, it will be created. It it already exists it's content will be truncated (i.e. the file is overwritten)"
   ]
  },
  {
   "cell_type": "code",
   "execution_count": 2,
   "id": "79aa615b-a012-41ad-9aed-792d63648032",
   "metadata": {},
   "outputs": [
    {
     "name": "stdout",
     "output_type": "stream",
     "text": [
      "\n"
     ]
    }
   ],
   "source": [
    "## writing and then reading a file\n",
    "\n",
    "with open('example.txt','w+') as file:\n",
    "    file.write('Hello World!\\n')\n",
    "    file.write('this is a new line.\\n')\n",
    "\n",
    "## Move the file cursor to the beginning\n",
    "#file.seek(0)\n",
    "\n",
    "# Read the content of the file\n",
    "    content=file.read()\n",
    "    print(content)\n"
   ]
  },
  {
   "cell_type": "code",
   "execution_count": null,
   "id": "d14797c1-ae9f-499d-9eba-c8908f87316a",
   "metadata": {},
   "outputs": [],
   "source": []
  }
 ],
 "metadata": {
  "kernelspec": {
   "display_name": "Python 3 (ipykernel)",
   "language": "python",
   "name": "python3"
  },
  "language_info": {
   "codemirror_mode": {
    "name": "ipython",
    "version": 3
   },
   "file_extension": ".py",
   "mimetype": "text/x-python",
   "name": "python",
   "nbconvert_exporter": "python",
   "pygments_lexer": "ipython3",
   "version": "3.12.7"
  }
 },
 "nbformat": 4,
 "nbformat_minor": 5
}
