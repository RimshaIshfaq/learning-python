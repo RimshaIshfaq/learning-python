{
 "cells": [
  {
   "cell_type": "markdown",
   "id": "4842ed4a-f729-43f2-be62-58380fb121a8",
   "metadata": {},
   "source": [
    "## Object Oriented Programming"
   ]
  },
  {
   "cell_type": "markdown",
   "id": "f0372ca2-e02f-4a16-a63a-e5a5cbee7b2c",
   "metadata": {},
   "source": [
    "#### To map with real world scenerios, we started using objects in code. This is called Object Oriented Programming."
   ]
  },
  {
   "cell_type": "markdown",
   "id": "2003fede-50b3-4bb7-982d-9136cd9263cc",
   "metadata": {},
   "source": [
    "#### First we used to do coding in sequence, it is called procedural Programming. Then, we moved towards Functional Programming to reduce reduncy in coding. Then we moved towards Object Oriented Programming to increase reusability and reduce redundancy."
   ]
  },
  {
   "cell_type": "code",
   "execution_count": 4,
   "id": "43f55b82-3f4d-4372-95b9-12ff475d8ede",
   "metadata": {},
   "outputs": [
    {
     "name": "stdout",
     "output_type": "stream",
     "text": [
      "Karan\n"
     ]
    }
   ],
   "source": [
    "# Creating Class\n",
    "class Student:\n",
    "    name=\"Karan\"\n",
    "\n",
    "#creating object (instance)\n",
    "s1=Student()\n",
    "print(s1.name)"
   ]
  },
  {
   "cell_type": "code",
   "execution_count": 6,
   "id": "b9e26905-9aba-42e1-a173-8e0477cdf3b8",
   "metadata": {},
   "outputs": [
    {
     "name": "stdout",
     "output_type": "stream",
     "text": [
      "blue\n",
      "mercedes\n"
     ]
    }
   ],
   "source": [
    "# Let's create a class car\n",
    "class Car:\n",
    "    color=\"blue\"\n",
    "    brand=\"mercedes\"\n",
    "\n",
    "car1=Car()\n",
    "print(car1.color)\n",
    "print(car1.brand)"
   ]
  },
  {
   "cell_type": "markdown",
   "id": "414c264b-6647-49ca-b5e5-7aded3154443",
   "metadata": {},
   "source": [
    "### --init-- function\n",
    "Constructor: All classes have a function called --init--() which is always executed when the object is being executed"
   ]
  },
  {
   "cell_type": "code",
   "execution_count": 13,
   "id": "80d4d704-a31b-442c-9852-5c1aa89eb19f",
   "metadata": {},
   "outputs": [
    {
     "name": "stdout",
     "output_type": "stream",
     "text": [
      "adding new student in database\n",
      "Karan\n",
      "adding new student in database\n",
      "Rimsha\n"
     ]
    }
   ],
   "source": [
    "class Student:\n",
    "    def __init__(self, name):\n",
    "        self.name=name\n",
    "        print(\"adding new student in database\")\n",
    "\n",
    "s1=Student('Karan')\n",
    "print(s1.name)\n",
    "s2=Student('Rimsha')\n",
    "print(s2.name)"
   ]
  },
  {
   "cell_type": "code",
   "execution_count": 15,
   "id": "739b5fcd-68a4-47ec-9fc8-1e44dc8aebc8",
   "metadata": {},
   "outputs": [
    {
     "name": "stdout",
     "output_type": "stream",
     "text": [
      "adding new student in database\n",
      "karan 99\n",
      "adding new student in database\n",
      "Rimsha 89\n"
     ]
    }
   ],
   "source": [
    "class Student:\n",
    "    #default constructor\n",
    "    def __init__(self):\n",
    "        pass\n",
    "    #parameterized constructor\n",
    "    def __init__(self, name,marks):\n",
    "        self.name=name\n",
    "        self.marks=marks\n",
    "        print(\"adding new student in database\")\n",
    "\n",
    "s1=Student('karan',99)\n",
    "print(s1.name,s1.marks)\n",
    "\n",
    "s2=Student('Rimsha',89)\n",
    "print(s2.name,s2.marks)"
   ]
  },
  {
   "cell_type": "markdown",
   "id": "1dda80d3-a657-46a0-ba26-2bed75fc2ea7",
   "metadata": {},
   "source": [
    "### Question: Create a student class that takes name and marks of 3 subjects as arguments in constructor. Then create a method to print the average."
   ]
  },
  {
   "cell_type": "code",
   "execution_count": 18,
   "id": "8f4b1542-1b2b-41d1-94fe-95573261c920",
   "metadata": {},
   "outputs": [
    {
     "name": "stdout",
     "output_type": "stream",
     "text": [
      "hi Rimsha your average score is 91.66666666666667\n"
     ]
    }
   ],
   "source": [
    "class Student:\n",
    "    def __init__(self,name,marks):\n",
    "        self.name=name\n",
    "        self.marks=marks\n",
    "\n",
    "    def get_avg(self):\n",
    "        sum=0\n",
    "        for val in self.marks:\n",
    "            sum+=val\n",
    "        print(\"hi\", self.name,\"your average score is\", sum/3)\n",
    "\n",
    "s1=Student(\"Rimsha\",[99,78,98])\n",
    "s1.get_avg()"
   ]
  },
  {
   "cell_type": "markdown",
   "id": "9684caef-78af-408d-b950-dee33cc9c865",
   "metadata": {},
   "source": [
    "### Static Methods:\n",
    "### These are the methods that do not use the self parameter (work at class level)\n",
    "\n",
    "```\n",
    "class Student:\n",
    "    @staticmethod  # decorator\n",
    "    def college():\n",
    "        print('ABC College')\n",
    "```\n",
    "\n",
    "### Decorators\n",
    "#### Decorators allow us to wrap another function in order to extend behaviour of the wrapped function, without permanently modifying it."
   ]
  },
  {
   "cell_type": "code",
   "execution_count": 23,
   "id": "3e28788e-2671-4bdb-9434-51dfa19a513d",
   "metadata": {},
   "outputs": [
    {
     "name": "stdout",
     "output_type": "stream",
     "text": [
      "Rimsha\n",
      "99\n",
      "ABC College\n",
      "Amna\n",
      "98\n",
      "ABC College\n"
     ]
    }
   ],
   "source": [
    "class Student:\n",
    "    @staticmethod  # decorator\n",
    "    def college():\n",
    "        print('ABC College')\n",
    "\n",
    "    def __init__(self,name,marks):\n",
    "        self.name=name\n",
    "        self.marks=marks\n",
    "\n",
    "s1=Student(\"Rimsha\",99)\n",
    "s2=Student(\"Amna\",98)\n",
    "\n",
    "#printing for s1\n",
    "print(s1.name)\n",
    "print(s1.marks)\n",
    "s1.college()\n",
    "\n",
    "#printing for s2\n",
    "print(s2.name)\n",
    "print(s2.marks)\n",
    "s2.college()"
   ]
  }
 ],
 "metadata": {
  "kernelspec": {
   "display_name": "Python 3 (ipykernel)",
   "language": "python",
   "name": "python3"
  },
  "language_info": {
   "codemirror_mode": {
    "name": "ipython",
    "version": 3
   },
   "file_extension": ".py",
   "mimetype": "text/x-python",
   "name": "python",
   "nbconvert_exporter": "python",
   "pygments_lexer": "ipython3",
   "version": "3.12.7"
  }
 },
 "nbformat": 4,
 "nbformat_minor": 5
}
